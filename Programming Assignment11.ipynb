{
 "cells": [
  {
   "cell_type": "markdown",
   "id": "e4c9cf33",
   "metadata": {},
   "source": [
    "#### Write a Python program to find words which are greater than given length k?"
   ]
  },
  {
   "cell_type": "code",
   "execution_count": 1,
   "id": "f2b5adb7",
   "metadata": {},
   "outputs": [
    {
     "name": "stdout",
     "output_type": "stream",
     "text": [
      "Enter the string: i love to learn python\n",
      "enter the string u want to choose: 5\n",
      "python\n"
     ]
    }
   ],
   "source": [
    "def checklenghtofstring():\n",
    "    string = input(\"Enter the string: \")\n",
    "    length_of_string = int(input(\"enter the string u want to choose: \"))\n",
    "    out_put = []\n",
    "    for i in string.split(\" \"):\n",
    "        if len(i) > length_of_string:\n",
    "            out_put.append(i)\n",
    "    print(','.join(out_put))\n",
    "checklenghtofstring()\n",
    "    "
   ]
  },
  {
   "cell_type": "markdown",
   "id": "9746b774",
   "metadata": {},
   "source": [
    "## 2. Write a Python program for removing i-th character from a string ?"
   ]
  },
  {
   "cell_type": "code",
   "execution_count": 3,
   "id": "c11c4261",
   "metadata": {},
   "outputs": [
    {
     "name": "stdout",
     "output_type": "stream",
     "text": [
      "Enter the String: i love to learn python\n",
      "Enter the ith Character: 3\n",
      "i lve to learn python\n"
     ]
    }
   ],
   "source": [
    "def removeCharacter():\n",
    "    in_string = input(\"Enter the String: \")\n",
    "    in_char_num = int(input(\"Enter the ith Character: \"))\n",
    "    out_string = ''\n",
    "    for ele in range(len(in_string)):\n",
    "        if ele != in_char_num:\n",
    "            out_string = out_string + in_string[ele]\n",
    "    print(out_string)\n",
    "    \n",
    "removeCharacter()"
   ]
  },
  {
   "cell_type": "markdown",
   "id": "e9f86d88",
   "metadata": {},
   "source": [
    "## 3.Write a Python program to split and join a string ?"
   ]
  },
  {
   "cell_type": "code",
   "execution_count": 4,
   "id": "9374b709",
   "metadata": {},
   "outputs": [],
   "source": [
    "\n",
    "join_ = \"\"\n",
    "def split_join(a):\n",
    "    split_=  a.split(\" \")\n",
    "    join_ = \"  \" .join(a.split(' '))\n",
    "    return split_ , join_\n"
   ]
  },
  {
   "cell_type": "code",
   "execution_count": 5,
   "id": "5ebe7056",
   "metadata": {},
   "outputs": [
    {
     "data": {
      "text/plain": [
       "(['my', 'name', 'is', 'sharath'], 'my  name  is  sharath')"
      ]
     },
     "execution_count": 5,
     "metadata": {},
     "output_type": "execute_result"
    }
   ],
   "source": [
    "split_join(\"my name is sharath\")"
   ]
  },
  {
   "cell_type": "code",
   "execution_count": null,
   "id": "37d8a38a",
   "metadata": {},
   "outputs": [],
   "source": []
  },
  {
   "cell_type": "markdown",
   "id": "669eed0e",
   "metadata": {},
   "source": [
    "## 4. Write a Python to check if a given string is binary string or not ?"
   ]
  },
  {
   "cell_type": "code",
   "execution_count": 6,
   "id": "c26669fc",
   "metadata": {},
   "outputs": [],
   "source": [
    "def string_binary_or_not(a):\n",
    "    b = \"23456789\"\n",
    "    for i in a :\n",
    "        if i in b :\n",
    "            return \" not a binary\"\n",
    "    return \" it is binary \"     \n",
    "        "
   ]
  },
  {
   "cell_type": "code",
   "execution_count": 7,
   "id": "39db9257",
   "metadata": {},
   "outputs": [
    {
     "data": {
      "text/plain": [
       "' it is binary '"
      ]
     },
     "execution_count": 7,
     "metadata": {},
     "output_type": "execute_result"
    }
   ],
   "source": [
    "string_binary_or_not(\"01\")"
   ]
  },
  {
   "cell_type": "markdown",
   "id": "26605ca6",
   "metadata": {},
   "source": [
    "## 5. Write a Python program to find uncommon words from two Strings ?"
   ]
  },
  {
   "cell_type": "code",
   "execution_count": 8,
   "id": "f2aca301",
   "metadata": {},
   "outputs": [
    {
     "name": "stdout",
     "output_type": "stream",
     "text": [
      "Enter the String 1: i love to learn python\n",
      "Enter the String 2: i love to learn python zxcv\n",
      "{'zxcv'}\n"
     ]
    }
   ],
   "source": [
    "def unCommonWords():\n",
    "    in_string_1 = set(input(\"Enter the String 1: \").split(' '))\n",
    "    in_string_2 = set(input(\"Enter the String 2: \").split(' '))\n",
    "    out_string = (in_string_1.union(in_string_2)).difference(in_string_1.intersection(in_string_2))\n",
    "    print(out_string)\n",
    "\n",
    "unCommonWords()\n",
    "    "
   ]
  },
  {
   "cell_type": "markdown",
   "id": "f0d9d39e",
   "metadata": {},
   "source": [
    "### 6. Write a Python to find all duplicate characters in string ?"
   ]
  },
  {
   "cell_type": "code",
   "execution_count": null,
   "id": "4c165fa8",
   "metadata": {},
   "outputs": [],
   "source": [
    "def duplicateChars():\n",
    "    in_string = input('Enter the string: ')\n",
    "    non_duplicate_list = []\n",
    "    duplicate_list = []\n",
    "    for ele in in_string:\n",
    "        if ele not in non_duplicate_list:\n",
    "            non_duplicate_list.append(ele)\n",
    "        else:\n",
    "            duplicate_list.append(ele)\n",
    "    print(f'Duplicate characters are: {list(set(duplicate_list))}')\n",
    "        \n",
    "duplicateChars()"
   ]
  },
  {
   "cell_type": "markdown",
   "id": "3d5fad37",
   "metadata": {},
   "source": [
    "### 7. Write a Python Program to check if a string contains any special character?"
   ]
  },
  {
   "cell_type": "code",
   "execution_count": 29,
   "id": "2568fade",
   "metadata": {},
   "outputs": [],
   "source": [
    "char_list = []\n",
    "\n",
    "def stringhavingspecailchar(special):\n",
    "    spl_char=\"@_!#$%^&*()<>?/\\|\"\n",
    "    \n",
    "    for i in special:\n",
    "        if i in spl_char:\n",
    "                char_list.append(i)\n",
    "    return char_list\n",
    "        "
   ]
  },
  {
   "cell_type": "code",
   "execution_count": 30,
   "id": "4ad6771b",
   "metadata": {},
   "outputs": [
    {
     "data": {
      "text/plain": [
       "['@', '!']"
      ]
     },
     "execution_count": 30,
     "metadata": {},
     "output_type": "execute_result"
    }
   ],
   "source": [
    "stringhavingspecailchar(\"@!sharath\")"
   ]
  },
  {
   "cell_type": "code",
   "execution_count": 31,
   "id": "758c583a",
   "metadata": {},
   "outputs": [
    {
     "data": {
      "text/plain": [
       "['@', '!']"
      ]
     },
     "execution_count": 31,
     "metadata": {},
     "output_type": "execute_result"
    }
   ],
   "source": [
    "char_list"
   ]
  },
  {
   "cell_type": "code",
   "execution_count": null,
   "id": "ac2cc875",
   "metadata": {},
   "outputs": [],
   "source": [
    "    "
   ]
  },
  {
   "cell_type": "code",
   "execution_count": null,
   "id": "d12b84ed",
   "metadata": {},
   "outputs": [],
   "source": []
  },
  {
   "cell_type": "code",
   "execution_count": null,
   "id": "d1d32255",
   "metadata": {},
   "outputs": [],
   "source": []
  },
  {
   "cell_type": "code",
   "execution_count": null,
   "id": "2f2c029c",
   "metadata": {},
   "outputs": [],
   "source": []
  },
  {
   "cell_type": "code",
   "execution_count": null,
   "id": "dc3b7a43",
   "metadata": {},
   "outputs": [],
   "source": []
  },
  {
   "cell_type": "code",
   "execution_count": null,
   "id": "e1960d85",
   "metadata": {},
   "outputs": [],
   "source": []
  },
  {
   "cell_type": "code",
   "execution_count": null,
   "id": "fcec8dbf",
   "metadata": {},
   "outputs": [],
   "source": []
  },
  {
   "cell_type": "code",
   "execution_count": null,
   "id": "944d0d4d",
   "metadata": {},
   "outputs": [],
   "source": []
  },
  {
   "cell_type": "code",
   "execution_count": null,
   "id": "cfa0a966",
   "metadata": {},
   "outputs": [],
   "source": []
  },
  {
   "cell_type": "code",
   "execution_count": null,
   "id": "e81f86b3",
   "metadata": {},
   "outputs": [],
   "source": []
  },
  {
   "cell_type": "code",
   "execution_count": null,
   "id": "91149f50",
   "metadata": {},
   "outputs": [],
   "source": []
  },
  {
   "cell_type": "code",
   "execution_count": null,
   "id": "a08f28bd",
   "metadata": {},
   "outputs": [],
   "source": []
  },
  {
   "cell_type": "code",
   "execution_count": null,
   "id": "af09ea60",
   "metadata": {},
   "outputs": [],
   "source": []
  },
  {
   "cell_type": "code",
   "execution_count": null,
   "id": "cfe9cb68",
   "metadata": {},
   "outputs": [],
   "source": []
  },
  {
   "cell_type": "code",
   "execution_count": null,
   "id": "c5b1441f",
   "metadata": {},
   "outputs": [],
   "source": []
  },
  {
   "cell_type": "code",
   "execution_count": null,
   "id": "a8842387",
   "metadata": {},
   "outputs": [],
   "source": []
  },
  {
   "cell_type": "code",
   "execution_count": null,
   "id": "c3c97ee9",
   "metadata": {},
   "outputs": [],
   "source": []
  },
  {
   "cell_type": "code",
   "execution_count": null,
   "id": "f5f8baf8",
   "metadata": {},
   "outputs": [],
   "source": []
  },
  {
   "cell_type": "code",
   "execution_count": null,
   "id": "7ad87cb6",
   "metadata": {},
   "outputs": [],
   "source": []
  },
  {
   "cell_type": "code",
   "execution_count": null,
   "id": "808bf03d",
   "metadata": {},
   "outputs": [],
   "source": []
  },
  {
   "cell_type": "code",
   "execution_count": null,
   "id": "da521f45",
   "metadata": {},
   "outputs": [],
   "source": []
  },
  {
   "cell_type": "code",
   "execution_count": null,
   "id": "95f8607a",
   "metadata": {},
   "outputs": [],
   "source": []
  }
 ],
 "metadata": {
  "kernelspec": {
   "display_name": "Python 3 (ipykernel)",
   "language": "python",
   "name": "python3"
  },
  "language_info": {
   "codemirror_mode": {
    "name": "ipython",
    "version": 3
   },
   "file_extension": ".py",
   "mimetype": "text/x-python",
   "name": "python",
   "nbconvert_exporter": "python",
   "pygments_lexer": "ipython3",
   "version": "3.9.13"
  }
 },
 "nbformat": 4,
 "nbformat_minor": 5
}
